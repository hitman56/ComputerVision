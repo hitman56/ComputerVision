{
 "cells": [
  {
   "cell_type": "code",
   "execution_count": 2,
   "metadata": {},
   "outputs": [],
   "source": [
    "import sys\n",
    "import cv2\n",
    "import numpy as np\n",
    "import pytesseract\n",
    "from PIL import Image, ImageDraw\n",
    "from itertools import chain"
   ]
  },
  {
   "cell_type": "code",
   "execution_count": 10,
   "metadata": {},
   "outputs": [],
   "source": [
    "def showImage(imgVar):\n",
    "    cv2.imshow(\"image\", imgVar)\n",
    "    while(True):\n",
    "        k = cv2.waitKey(0)\n",
    "        if k == -1:  # if no key was pressed, -1 is returned\n",
    "            continue\n",
    "        else:\n",
    "            break\n",
    "    cv2.destroyWindow('image')\n",
    "    return\n",
    "\n",
    "def getIterator(binaryImg,pointer,iterator,reverse=False):\n",
    "    \n",
    "    iterate=True\n",
    "    height,width=chain(binaryImg.shape)\n",
    "    while(iterate and 0<=iterator<=width):\n",
    "        if binaryImg[pointer][iterator]==255:\n",
    "                iterate=False\n",
    "                break\n",
    "        if reverse:\n",
    "            iterator-=1\n",
    "        else:\n",
    "            iterator+=1\n",
    "    return iterator\n",
    "\n",
    "def getIterator2(binaryImg,pointer,iterator,reverse=False):\n",
    "    \n",
    "    iterate=True\n",
    "    height,width=chain(binaryImg.shape)\n",
    "    while(iterate and 0<=pointer<=height):\n",
    "        \n",
    "        if binaryImg[pointer][iterator]==255:\n",
    "                \n",
    "                iterate=False\n",
    "                break\n",
    "        if reverse:\n",
    "            pointer-=1\n",
    "        else:\n",
    "            pointer+=1\n",
    "    return pointer\n",
    "\n",
    "def removeSidelines(binaryImg):\n",
    "    height,width=chain(binaryImg.shape)\n",
    "    iterate=True\n",
    "    startY1,endY1=height*5/100,height*97/100\n",
    "    \n",
    "    Ax1=getIterator(binaryImg,startY1,0)\n",
    "    Ax2=getIterator(binaryImg,endY1,0)\n",
    "    Bx1=getIterator(binaryImg,startY1,width-1,reverse=True)\n",
    "    Bx2=getIterator(binaryImg,endY1,width-1,reverse=True)\n",
    "    \n",
    "    startX1,endX1=width*5/100,width*97/100\n",
    "    By1=getIterator2(binaryImg,0,startX1)\n",
    "    By2=getIterator2(binaryImg,0,endX1)\n",
    "    print('*'*50)\n",
    "    Ay1=getIterator2(binaryImg,height-1,startX1,reverse=True)\n",
    "    Ay2=getIterator2(binaryImg,height-1,endX1,reverse=True)\n",
    "   \n",
    "   \n",
    "    return Ax1,Ax2,Bx1,Bx2,Ay1,Ay2,By1,By2\n",
    "\n",
    "\n",
    "def cropImage(img,Ax1,Ay1,Bx1,By1,Bx2,By2,Ax2,Ay2):\n",
    "    \n",
    "    # Give points in clockwise order\n",
    "    y=img.shape[1]\n",
    "    pts = np.array([[Ax1,Ay1+1],[Bx1,Ay2+1],[Bx2,By2-1],[Ax2,By1-1]])\n",
    "    \n",
    "    ## (1) Crop the bounding rect\n",
    "    rect = cv2.boundingRect(pts)\n",
    "    x,y,w,h = rect\n",
    "    croped = img[y:y+h, x:x+w].copy()\n",
    "\n",
    "    ## (2) make mask\n",
    "    pts = pts - pts.min(axis=0)\n",
    "\n",
    "    mask = np.zeros(croped.shape[:2], np.uint8)\n",
    "    cv2.drawContours(mask, [pts], -1, (255, 255, 255), -1, cv2.LINE_AA)\n",
    "\n",
    "    ## (3) do bit-op\n",
    "    dst = cv2.bitwise_and(croped, croped, mask=mask)\n",
    "\n",
    "    ## (4) add the white background\n",
    "    bg = np.ones_like(croped, np.uint8)*255\n",
    "    cv2.bitwise_not(bg,bg, mask=mask)\n",
    "    dst2 = bg+ dst\n",
    "    return dst2"
   ]
  },
  {
   "cell_type": "code",
   "execution_count": 18,
   "metadata": {},
   "outputs": [
    {
     "name": "stdout",
     "output_type": "stream",
     "text": [
      "**************************************************\n"
     ]
    }
   ],
   "source": [
    "imgpath=\"images/image1.jpg\"\n",
    "img=cv2.imread(imgpath,cv2.IMREAD_GRAYSCALE)\n",
    "\n",
    "\n",
    "im_bw=cv2.adaptiveThreshold(img,255,cv2.ADAPTIVE_THRESH_GAUSSIAN_C,cv2.THRESH_BINARY,11,2)\n",
    "#(thresh, im_bw) = cv2.threshold(im_bw, 128, 255, cv2.THRESH_BINARY | cv2.THRESH_OTSU)\n",
    "#im_bw = cv2.threshold(im_bw, 127, 255, cv2.THRESH_BINARY)[1]\n",
    "\n",
    "# kernel = np.ones((5,5),np.float32)/25\n",
    "# dst = cv2.filter2D(im_bw,-1,kernel)\n",
    "height,width=chain(img.shape)\n",
    "blur = cv2.blur(im_bw,(80,80))\n",
    "(thresh, binaryImg) = cv2.threshold(blur, 128, 255, cv2.THRESH_BINARY | cv2.THRESH_OTSU)\n",
    "\n",
    "Ax1,Ax2,Bx1,Bx2,Ay1,Ay2,By1,By2=removeSidelines(binaryImg)\n",
    "cv2.line(binaryImg,(Ax1,0),(Ax2,height),(255,0,0),5)\n",
    "cv2.line(binaryImg,(Bx1,0),(Bx2,height),(255,0,0),5)\n",
    "\n",
    "# cv2.line(binaryImg,(0,Ay1),(width,Ay2),(0,0,0),5)\n",
    "# cv2.line(binaryImg,(0,By1),(width,By2),(0,0,0),5)\n",
    "\n",
    "crop_img = cropImage(img,Ax1,Ay1,Bx1,By1,Bx2,By2,Ax2,Ay2)\n",
    "\n",
    "#showImage(crop_img)"
   ]
  },
  {
   "cell_type": "code",
   "execution_count": 19,
   "metadata": {},
   "outputs": [
    {
     "data": {
      "text/plain": [
       "True"
      ]
     },
     "execution_count": 19,
     "metadata": {},
     "output_type": "execute_result"
    }
   ],
   "source": [
    "cv2.imwrite(\"binaryImg.png\",binaryImg)"
   ]
  },
  {
   "cell_type": "code",
   "execution_count": 20,
   "metadata": {},
   "outputs": [
    {
     "data": {
      "text/plain": [
       "(110, 96, 791, 863, -1, 1151, 1152, 786)"
      ]
     },
     "execution_count": 20,
     "metadata": {},
     "output_type": "execute_result"
    }
   ],
   "source": [
    "Ax1,Ax2,Bx1,Bx2,Ay1,Ay2,By1,By2"
   ]
  },
  {
   "cell_type": "code",
   "execution_count": null,
   "metadata": {},
   "outputs": [],
   "source": [
    "binaryImg.shape"
   ]
  },
  {
   "cell_type": "code",
   "execution_count": null,
   "metadata": {},
   "outputs": [],
   "source": [
    "binaryImg[1094]"
   ]
  },
  {
   "cell_type": "code",
   "execution_count": null,
   "metadata": {},
   "outputs": [],
   "source": [
    "\n",
    "# im_bw=cv2.adaptiveThreshold(img,255,cv2.ADAPTIVE_THRESH_GAUSSIAN_C,cv2.THRESH_BINARY,11,2)\n",
    "# (thresh, im_bw) = cv2.threshold(img, 128, 255, cv2.THRESH_BINARY | cv2.THRESH_OTSU)\n",
    "# thresh = 100\n",
    "# im_bw = cv2.threshold(img, thresh, 255, cv2.THRESH_BINARY)[1]"
   ]
  },
  {
   "cell_type": "code",
   "execution_count": null,
   "metadata": {},
   "outputs": [],
   "source": []
  }
 ],
 "metadata": {
  "kernelspec": {
   "display_name": "Python 2",
   "language": "python",
   "name": "python2"
  },
  "language_info": {
   "codemirror_mode": {
    "name": "ipython",
    "version": 2
   },
   "file_extension": ".py",
   "mimetype": "text/x-python",
   "name": "python",
   "nbconvert_exporter": "python",
   "pygments_lexer": "ipython2",
   "version": "2.7.12"
  }
 },
 "nbformat": 4,
 "nbformat_minor": 2
}
